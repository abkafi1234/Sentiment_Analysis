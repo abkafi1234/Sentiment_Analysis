{
  "cells": [
    {
      "cell_type": "markdown",
      "metadata": {
        "id": "view-in-github",
        "colab_type": "text"
      },
      "source": [
        "<a href=\"https://colab.research.google.com/github/abkafi123/Sentiment_Analysis/blob/main/Review_analysis.ipynb\" target=\"_parent\"><img src=\"https://colab.research.google.com/assets/colab-badge.svg\" alt=\"Open In Colab\"/></a>"
      ]
    },
    {
      "cell_type": "code",
      "execution_count": null,
      "metadata": {
        "colab": {
          "base_uri": "https://localhost:8080/"
        },
        "id": "KBnY7E97JzeM",
        "outputId": "a5cb994e-8f85-4902-b3ed-5836178223db"
      },
      "outputs": [
        {
          "output_type": "stream",
          "name": "stdout",
          "text": [
            "Mounted at /content/drive\n"
          ]
        }
      ],
      "source": [
        "from google.colab import drive\n",
        "drive.mount('/content/drive')"
      ]
    },
    {
      "cell_type": "code",
      "execution_count": null,
      "metadata": {
        "id": "O2PWEmXZMD5a"
      },
      "outputs": [],
      "source": [
        "import pandas as pd\n",
        "import re\n",
        "import numpy as np"
      ]
    },
    {
      "cell_type": "code",
      "execution_count": null,
      "metadata": {
        "id": "YWWmL76ziPfl"
      },
      "outputs": [],
      "source": [
        "independent = 'BanglaTranslation'\n",
        "dependent = 'Sentiment'"
      ]
    },
    {
      "cell_type": "code",
      "execution_count": null,
      "metadata": {
        "colab": {
          "base_uri": "https://localhost:8080/"
        },
        "id": "3wRBGgrChpS0",
        "outputId": "f4edccdf-b80e-45ce-9fad-ba1b6d4fb494"
      },
      "outputs": [
        {
          "output_type": "stream",
          "name": "stdout",
          "text": [
            "positive    1433\n",
            "negative     521\n",
            "Name: Sentiment, dtype: int64\n"
          ]
        }
      ],
      "source": [
        "from sklearn.preprocessing import LabelEncoder\n",
        "# data_raw = pd.read_excel('/content/drive/MyDrive/TextClassification/Review Dataset/ProperTags.xlsx')\n",
        "\n",
        "data_raw = pd.read_excel('/content/drive/MyDrive/TextClassification/Review Dataset/FacebookTags.xlsx')\n",
        "\n",
        "data = data_raw[[independent,dependent]]\n",
        "print(data.Sentiment.value_counts())\n",
        "data = data.dropna()\n",
        "if type(data.Sentiment[1]) == 'str' or 'obj':\n",
        "    data.Sentiment = LabelEncoder().fit_transform(data.Sentiment)\n",
        "data.Sentiment = data.Sentiment.astype(np.int16)"
      ]
    },
    {
      "cell_type": "code",
      "execution_count": null,
      "metadata": {
        "id": "XHhK0PsJSv1M"
      },
      "outputs": [],
      "source": [
        "data = data[[independent,dependent]]\n",
        "data = data.dropna()\n",
        "data[independent] = data[independent].apply(str)"
      ]
    },
    {
      "cell_type": "code",
      "source": [
        "data.drop(data[data['Sentiment']==2].index,inplace=True)"
      ],
      "metadata": {
        "id": "REwryc5tntXC"
      },
      "execution_count": null,
      "outputs": []
    },
    {
      "cell_type": "code",
      "execution_count": null,
      "metadata": {
        "colab": {
          "base_uri": "https://localhost:8080/"
        },
        "id": "xkdlfdodj4oe",
        "outputId": "d9d81e0d-2ce9-4190-f890-515cb68692ca"
      },
      "outputs": [
        {
          "output_type": "stream",
          "name": "stdout",
          "text": [
            "1    1430\n",
            "0     520\n",
            "Name: Sentiment, dtype: int64\n"
          ]
        }
      ],
      "source": [
        "j=data[dependent].value_counts()\n",
        "print(j)\n",
        "\n"
      ]
    },
    {
      "cell_type": "code",
      "source": [
        "banglacomments = data.BanglaTranslation\n",
        "length = []\n",
        "\n",
        "for i in banglacomments:\n",
        "    length.append(len(i.split()))\n",
        "print(length[:3])\n",
        "print(max(length))"
      ],
      "metadata": {
        "colab": {
          "base_uri": "https://localhost:8080/"
        },
        "id": "DIVavCG831ux",
        "outputId": "7433ffc3-2986-4379-9f03-08e9e0b1f9a3"
      },
      "execution_count": null,
      "outputs": [
        {
          "output_type": "stream",
          "name": "stdout",
          "text": [
            "[5, 33, 5]\n",
            "537\n"
          ]
        }
      ]
    },
    {
      "cell_type": "code",
      "execution_count": null,
      "metadata": {
        "id": "kTq21Ime4bQR",
        "colab": {
          "base_uri": "https://localhost:8080/"
        },
        "outputId": "bd5fb302-5ad8-4081-c9eb-63814a0ceb7e"
      },
      "outputs": [
        {
          "output_type": "stream",
          "name": "stdout",
          "text": [
            "500\n"
          ]
        }
      ],
      "source": [
        "import numpy as np\n",
        "\n",
        "avg = 500\n",
        "print(avg)\n",
        "\n",
        "# data= data.groupby('Sentiment').filter(lambda x : len(x)>=avg)\n",
        "\n",
        "data = data.groupby('Sentiment', as_index=False).apply(lambda array: array.loc[np.random.choice(array.index, avg, True),:]) #here true must be false\n",
        "\n",
        "# data = data.groupby('Sentiment').apply(lambda x: x[:avg])"
      ]
    },
    {
      "cell_type": "code",
      "execution_count": null,
      "metadata": {
        "colab": {
          "base_uri": "https://localhost:8080/"
        },
        "id": "MwSSvP5u4zxK",
        "outputId": "f4bf7be4-38da-4f6a-e1a3-2d9e245f7653"
      },
      "outputs": [
        {
          "output_type": "stream",
          "name": "stdout",
          "text": [
            "0    500\n",
            "1    500\n",
            "Name: Sentiment, dtype: int64\n"
          ]
        }
      ],
      "source": [
        "j=data['Sentiment'].value_counts()\n",
        "print(j)"
      ]
    },
    {
      "cell_type": "code",
      "source": [
        "classnumber = len(data.Sentiment.unique())"
      ],
      "metadata": {
        "id": "fsxMJUvJnXxH"
      },
      "execution_count": null,
      "outputs": []
    },
    {
      "cell_type": "code",
      "execution_count": null,
      "metadata": {
        "id": "3793LBzkj-sh"
      },
      "outputs": [],
      "source": [
        "from sklearn.preprocessing import LabelEncoder"
      ]
    },
    {
      "cell_type": "code",
      "execution_count": null,
      "metadata": {
        "id": "htNkK2WTkABc"
      },
      "outputs": [],
      "source": [
        "lb=LabelEncoder()\n",
        "data[['Sentiment']]=data[['Sentiment']].apply(lb.fit_transform)"
      ]
    },
    {
      "cell_type": "code",
      "execution_count": null,
      "metadata": {
        "id": "k7Zm6oE9tRdS"
      },
      "outputs": [],
      "source": [
        "import matplotlib.pyplot as plt\n",
        "import seaborn as sns\n",
        "%matplotlib inline"
      ]
    },
    {
      "cell_type": "code",
      "execution_count": null,
      "metadata": {
        "colab": {
          "base_uri": "https://localhost:8080/",
          "height": 283
        },
        "id": "DRwB6aYPtDiz",
        "outputId": "79dc96fd-c8cf-417f-eb6b-d8a6cdc05236"
      },
      "outputs": [
        {
          "output_type": "execute_result",
          "data": {
            "text/plain": [
              "<AxesSubplot:ylabel='Frequency'>"
            ]
          },
          "metadata": {},
          "execution_count": 105
        },
        {
          "output_type": "display_data",
          "data": {
            "text/plain": [
              "<Figure size 432x288 with 1 Axes>"
            ],
            "image/png": "[encoded data removed]"
          },
          "metadata": {
            "needs_background": "light"
          }
        }
      ],
      "source": [
        "data['Sentiment'].plot(kind='hist')"
      ]
    },
    {
      "cell_type": "code",
      "execution_count": null,
      "metadata": {
        "colab": {
          "base_uri": "https://localhost:8080/",
          "height": 112
        },
        "id": "j1jkE91klXEG",
        "outputId": "2965d7c8-4cf2-4f62-c16d-7da54b37383e"
      },
      "outputs": [
        {
          "output_type": "execute_result",
          "data": {
            "text/plain": [
              "                                       BanglaTranslation  Sentiment\n",
              "0 823                    জুলাই মাসের টি টেনের খবর নেই।\\n          0\n",
              "  837  দারাজের দালাল গুলি হাহাহা রিএক্ট দিবেই এটাই স্...          0"
            ],
            "text/html": [
              "\n",
              "  <div id=\"df-0fb8e549-73c2-4f76-8acc-40fb15eca0be\">\n",
              "    <div class=\"colab-df-container\">\n",
              "      <div>\n",
              "<style scoped>\n",
              "    .dataframe tbody tr th:only-of-type {\n",
              "        vertical-align: middle;\n",
              "    }\n",
              "\n",
              "    .dataframe tbody tr th {\n",
              "        vertical-align: top;\n",
              "    }\n",
              "\n",
              "    .dataframe thead th {\n",
              "        text-align: right;\n",
              "    }\n",
              "</style>\n",
              "<table border=\"1\" class=\"dataframe\">\n",
              "  <thead>\n",
              "    <tr style=\"text-align: right;\">\n",
              "      <th></th>\n",
              "      <th></th>\n",
              "      <th>BanglaTranslation</th>\n",
              "      <th>Sentiment</th>\n",
              "    </tr>\n",
              "  </thead>\n",
              "  <tbody>\n",
              "    <tr>\n",
              "      <th rowspan=\"2\" valign=\"top\">0</th>\n",
              "      <th>823</th>\n",
              "      <td>জুলাই মাসের টি টেনের খবর নেই।\\n</td>\n",
              "      <td>0</td>\n",
              "    </tr>\n",
              "    <tr>\n",
              "      <th>837</th>\n",
              "      <td>দারাজের দালাল গুলি হাহাহা রিএক্ট দিবেই এটাই স্...</td>\n",
              "      <td>0</td>\n",
              "    </tr>\n",
              "  </tbody>\n",
              "</table>\n",
              "</div>\n",
              "      <button class=\"colab-df-convert\" onclick=\"convertToInteractive('df-0fb8e549-73c2-4f76-8acc-40fb15eca0be')\"\n",
              "              title=\"Convert this dataframe to an interactive table.\"\n",
              "              style=\"display:none;\">\n",
              "        \n",
              "  <svg xmlns=\"http://www.w3.org/2000/svg\" height=\"24px\"viewBox=\"0 0 24 24\"\n",
              "       width=\"24px\">\n",
              "    <path d=\"M0 0h24v24H0V0z\" fill=\"none\"/>\n",
              "    <path d=\"M18.56 5.44l.94 2.06.94-2.06 2.06-.94-2.06-.94-.94-2.06-.94 2.06-2.06.94zm-11 1L8.5 8.5l.94-2.06 2.06-.94-2.06-.94L8.5 2.5l-.94 2.06-2.06.94zm10 10l.94 2.06.94-2.06 2.06-.94-2.06-.94-.94-2.06-.94 2.06-2.06.94z\"/><path d=\"M17.41 7.96l-1.37-1.37c-.4-.4-.92-.59-1.43-.59-.52 0-1.04.2-1.43.59L10.3 9.45l-7.72 7.72c-.78.78-.78 2.05 0 2.83L4 21.41c.39.39.9.59 1.41.59.51 0 1.02-.2 1.41-.59l7.78-7.78 2.81-2.81c.8-.78.8-2.07 0-2.86zM5.41 20L4 18.59l7.72-7.72 1.47 1.35L5.41 20z\"/>\n",
              "  </svg>\n",
              "      </button>\n",
              "      \n",
              "  <style>\n",
              "    .colab-df-container {\n",
              "      display:flex;\n",
              "      flex-wrap:wrap;\n",
              "      gap: 12px;\n",
              "    }\n",
              "\n",
              "    .colab-df-convert {\n",
              "      background-color: #E8F0FE;\n",
              "      border: none;\n",
              "      border-radius: 50%;\n",
              "      cursor: pointer;\n",
              "      display: none;\n",
              "      fill: #1967D2;\n",
              "      height: 32px;\n",
              "      padding: 0 0 0 0;\n",
              "      width: 32px;\n",
              "    }\n",
              "\n",
              "    .colab-df-convert:hover {\n",
              "      background-color: #E2EBFA;\n",
              "      box-shadow: 0px 1px 2px rgba(60, 64, 67, 0.3), 0px 1px 3px 1px rgba(60, 64, 67, 0.15);\n",
              "      fill: #174EA6;\n",
              "    }\n",
              "\n",
              "    [theme=dark] .colab-df-convert {\n",
              "      background-color: #3B4455;\n",
              "      fill: #D2E3FC;\n",
              "    }\n",
              "\n",
              "    [theme=dark] .colab-df-convert:hover {\n",
              "      background-color: #434B5C;\n",
              "      box-shadow: 0px 1px 3px 1px rgba(0, 0, 0, 0.15);\n",
              "      filter: drop-shadow(0px 1px 2px rgba(0, 0, 0, 0.3));\n",
              "      fill: #FFFFFF;\n",
              "    }\n",
              "  </style>\n",
              "\n",
              "      <script>\n",
              "        const buttonEl =\n",
              "          document.querySelector('#df-0fb8e549-73c2-4f76-8acc-40fb15eca0be button.colab-df-convert');\n",
              "        buttonEl.style.display =\n",
              "          google.colab.kernel.accessAllowed ? 'block' : 'none';\n",
              "\n",
              "        async function convertToInteractive(key) {\n",
              "          const element = document.querySelector('#df-0fb8e549-73c2-4f76-8acc-40fb15eca0be');\n",
              "          const dataTable =\n",
              "            await google.colab.kernel.invokeFunction('convertToInteractive',\n",
              "                                                     [key], {});\n",
              "          if (!dataTable) return;\n",
              "\n",
              "          const docLinkHtml = 'Like what you see? Visit the ' +\n",
              "            '<a target=\"_blank\" href=https://colab.research.google.com/notebooks/data_table.ipynb>data table notebook</a>'\n",
              "            + ' to learn more about interactive tables.';\n",
              "          element.innerHTML = '';\n",
              "          dataTable['output_type'] = 'display_data';\n",
              "          await google.colab.output.renderOutput(dataTable, element);\n",
              "          const docLink = document.createElement('div');\n",
              "          docLink.innerHTML = docLinkHtml;\n",
              "          element.appendChild(docLink);\n",
              "        }\n",
              "      </script>\n",
              "    </div>\n",
              "  </div>\n",
              "  "
            ]
          },
          "metadata": {},
          "execution_count": 106
        }
      ],
      "source": [
        "data.head(2)"
      ]
    },
    {
      "cell_type": "markdown",
      "metadata": {
        "id": "MKgfZ_LhQ2tb"
      },
      "source": [
        "**trying** to impliment **bert** "
      ]
    },
    {
      "cell_type": "code",
      "execution_count": null,
      "metadata": {
        "id": "EAYj2avP1a1o"
      },
      "outputs": [],
      "source": [
        "import numpy as np\n",
        "from keras.preprocessing.text import Tokenizer\n",
        "from keras.preprocessing.sequence import pad_sequences\n",
        "from keras.models import Sequential\n",
        "from keras.layers import LSTM,Dense,Embedding,SpatialDropout1D,Dropout,Bidirectional,GRU\n",
        "from keras.utils.np_utils import to_categorical\n",
        "from sklearn.model_selection import train_test_split"
      ]
    },
    {
      "cell_type": "code",
      "execution_count": null,
      "metadata": {
        "id": "73Ijmrdp2IJq"
      },
      "outputs": [],
      "source": [
        "max_fatures = 3000\n",
        "tokenizer = Tokenizer(num_words=max_fatures)\n",
        "tokenizer.fit_on_texts(data[independent].replace('।',' ').values)\n",
        "X = tokenizer.texts_to_sequences(data[independent].values)\n",
        "X = pad_sequences(X,maxlen=100)\n"
      ]
    },
    {
      "cell_type": "code",
      "execution_count": null,
      "metadata": {
        "colab": {
          "base_uri": "https://localhost:8080/"
        },
        "id": "KODSSEOmTB2t",
        "outputId": "25012a59-ad84-49c8-d4fe-b8fb9a099eef"
      },
      "outputs": [
        {
          "output_type": "stream",
          "name": "stdout",
          "text": [
            "[  0   0   0   0   0   0   0   0   0   0   0   0   0   0   0   0   0   0\n",
            "   0   0   0   0   0   0   0   0   0   0   0   0   0   0   0   0   0   0\n",
            "   0   0   0   0   0   0   0   0   0   0   0   0   0   0   0   0   0   0\n",
            "   0   0   0   0   0   0   0   0   0   0   0   0   0   0   0   0   0   0\n",
            "   0   0   0   0   0   0   0   0   0   0   0   0   0   0   0   0   0   0\n",
            "   0   0   0   0   0   0   6 163 926 927]\n"
          ]
        }
      ],
      "source": [
        "print((X[4]))"
      ]
    },
    {
      "cell_type": "code",
      "execution_count": null,
      "metadata": {
        "colab": {
          "base_uri": "https://localhost:8080/"
        },
        "id": "UViCCX_R5Kvw",
        "outputId": "cd4f6cef-902b-4e0e-e342-6ecbffa6aa8e"
      },
      "outputs": [
        {
          "output_type": "execute_result",
          "data": {
            "text/plain": [
              "array([[  0,   0,   0, ..., 561, 115, 105],\n",
              "       [  0,   0,   0, ..., 565, 421, 422],\n",
              "       [  0,   0,   0, ...,  38, 242, 924],\n",
              "       ...,\n",
              "       [  0,   0,   0, ...,   3, 128,   9],\n",
              "       [  0,   0,   0, ...,   9,  22, 331],\n",
              "       [  0,   0,   0, ..., 367,  73, 367]], dtype=int32)"
            ]
          },
          "metadata": {},
          "execution_count": 110
        }
      ],
      "source": [
        "X"
      ]
    },
    {
      "cell_type": "code",
      "execution_count": null,
      "metadata": {
        "colab": {
          "base_uri": "https://localhost:8080/"
        },
        "id": "ZkaKMhg75ZKt",
        "outputId": "cd9331fc-d773-4dd5-a771-a3f33a30ef0b"
      },
      "outputs": [
        {
          "output_type": "execute_result",
          "data": {
            "text/plain": [
              "(1000, 100)"
            ]
          },
          "metadata": {},
          "execution_count": 111
        }
      ],
      "source": [
        "np.shape(X)"
      ]
    },
    {
      "cell_type": "code",
      "execution_count": null,
      "metadata": {
        "colab": {
          "base_uri": "https://localhost:8080/"
        },
        "id": "SDN6xB7r5wx2",
        "outputId": "f28e62e8-2ca0-403d-a99a-8728930b992c"
      },
      "outputs": [
        {
          "output_type": "stream",
          "name": "stdout",
          "text": [
            "(850, 100) (850, 2)\n",
            "(150, 100) (150, 2)\n"
          ]
        }
      ],
      "source": [
        "Y = pd.get_dummies(data['Sentiment']).values\n",
        "X_train, X_test, Y_train, Y_test = train_test_split(X,Y, test_size = 0.15,random_state = 42)\n",
        "print(X_train.shape,Y_train.shape)\n",
        "print(X_test.shape,Y_test.shape)"
      ]
    },
    {
      "cell_type": "code",
      "execution_count": null,
      "metadata": {
        "colab": {
          "base_uri": "https://localhost:8080/"
        },
        "id": "gc8OgA0h5iY9",
        "outputId": "5d4aef2d-7e33-46ff-9918-02c7d56a8b70"
      },
      "outputs": [
        {
          "output_type": "stream",
          "name": "stdout",
          "text": [
            "Model: \"sequential_2\"\n",
            "_________________________________________________________________\n",
            " Layer (type)                Output Shape              Param #   \n",
            "=================================================================\n",
            " embedding_2 (Embedding)     (None, 100, 64)           64000     \n",
            "                                                                 \n",
            " conv1d_2 (Conv1D)           (None, 98, 16)            3088      \n",
            "                                                                 \n",
            " global_max_pooling1d_2 (Glo  (None, 16)               0         \n",
            " balMaxPooling1D)                                                \n",
            "                                                                 \n",
            " dropout_4 (Dropout)         (None, 16)                0         \n",
            "                                                                 \n",
            " flatten_2 (Flatten)         (None, 16)                0         \n",
            "                                                                 \n",
            " dropout_5 (Dropout)         (None, 16)                0         \n",
            "                                                                 \n",
            " dense_2 (Dense)             (None, 2)                 34        \n",
            "                                                                 \n",
            "=================================================================\n",
            "Total params: 67,122\n",
            "Trainable params: 67,122\n",
            "Non-trainable params: 0\n",
            "_________________________________________________________________\n"
          ]
        }
      ],
      "source": [
        "import tensorflow as tf\n",
        "\n",
        "\n",
        "embed_dim = 64\n",
        "# model = Sequential()\n",
        "# model.add(Embedding(max_fatures, embed_dim,input_length = X.shape[1]))\n",
        "# model.add(SpatialDropout1D(0.2))\n",
        "# # model.add(tf.keras.layers.GlobalAveragePooling1D())\n",
        "# # model.add(Bidirectional(LSTM(4, dropout=0.5, recurrent_dropout=0.5,kernel_regularizer='l2')))\n",
        "# # model.add(GRU(16, dropout=0.5, recurrent_dropout=0.5,kernel_regularizer='l2',return_sequences=True))\n",
        "# model.add(LSTM(8, dropout=0.2, recurrent_dropout=0.2,kernel_regularizer='l2'))\n",
        "# model.add(Dropout(0.2))\n",
        "# model.add(Dense(classnumber,activation='softmax'))\n",
        "# model.compile(loss = 'binary_crossentropy', optimizer='adam',metrics = ['acc'])\n",
        "# model.summary()\n",
        "\n",
        "\n",
        "\n",
        "\n",
        "from string import punctuation\n",
        "from os import listdir\n",
        "from numpy import array\n",
        "from keras.preprocessing.text import Tokenizer\n",
        "from keras.models import Sequential\n",
        "from keras.layers import Dense\n",
        "from keras.layers import Flatten\n",
        "from keras.layers import Embedding\n",
        "from keras.layers import Dropout , GlobalMaxPooling1D\n",
        "from keras.layers.convolutional import Conv1D\n",
        "from keras.layers.convolutional import MaxPooling1D\n",
        "\n",
        "\n",
        "# opt = tf.keras.optimizers.Adam(learning_rate=0.005)\n",
        "max_fatures = 1000\n",
        "model = Sequential()\n",
        "model.add(Embedding(max_fatures, embed_dim, input_length=X.shape[1]))\n",
        "\n",
        "model.add(Conv1D(16, 3, activation='sigmoid', padding='valid',kernel_regularizer='l2')) #default 48\n",
        "# model.add(GlobalMaxPooling1D())\n",
        "# model.add(Conv1D(64, 3, activation='sigmoid', padding='valid',kernel_regularizer='l2')) #default 48\n",
        "model.add(GlobalMaxPooling1D())\n",
        "model.add(Dropout(0.2))\n",
        "\n",
        "\n",
        "model.add(Flatten())\n",
        "model.add(Dropout(0.1))\n",
        "model.add(Dense(classnumber, activation='softmax'))\n",
        "model.compile(loss='binary_crossentropy', optimizer='adam', metrics=['acc']) ##categorical_cross_entropy\n",
        "model.summary()"
      ]
    },
    {
      "cell_type": "code",
      "source": [
        "epoch = 50"
      ],
      "metadata": {
        "id": "gczsbDqRy-SI"
      },
      "execution_count": null,
      "outputs": []
    },
    {
      "cell_type": "code",
      "execution_count": null,
      "metadata": {
        "colab": {
          "base_uri": "https://localhost:8080/"
        },
        "id": "ELVmQAU06LdW",
        "outputId": "f313fed5-1cdc-4738-8e4f-74b0a938da84"
      },
      "outputs": [
        {
          "output_type": "stream",
          "name": "stdout",
          "text": [
            "Epoch 1/50\n",
            "14/14 [==============================] - 1s 5ms/step - loss: 1.0517 - acc: 0.4882\n",
            "Epoch 2/50\n",
            "14/14 [==============================] - 0s 5ms/step - loss: 0.9663 - acc: 0.4847\n",
            "Epoch 3/50\n",
            "14/14 [==============================] - 0s 4ms/step - loss: 0.8905 - acc: 0.5082\n",
            "Epoch 4/50\n",
            "14/14 [==============================] - 0s 4ms/step - loss: 0.8434 - acc: 0.5094\n",
            "Epoch 5/50\n",
            "14/14 [==============================] - 0s 5ms/step - loss: 0.8105 - acc: 0.4988\n",
            "Epoch 6/50\n",
            "14/14 [==============================] - 0s 5ms/step - loss: 0.7802 - acc: 0.4988\n",
            "Epoch 7/50\n",
            "14/14 [==============================] - 0s 5ms/step - loss: 0.7620 - acc: 0.5200\n",
            "Epoch 8/50\n",
            "14/14 [==============================] - 0s 5ms/step - loss: 0.7470 - acc: 0.5141\n",
            "Epoch 9/50\n",
            "14/14 [==============================] - 0s 5ms/step - loss: 0.7310 - acc: 0.5129\n",
            "Epoch 10/50\n",
            "14/14 [==============================] - 0s 4ms/step - loss: 0.7304 - acc: 0.5165\n",
            "Epoch 11/50\n",
            "14/14 [==============================] - 0s 4ms/step - loss: 0.7251 - acc: 0.4988\n",
            "Epoch 12/50\n",
            "14/14 [==============================] - 0s 4ms/step - loss: 0.7160 - acc: 0.5329\n",
            "Epoch 13/50\n",
            "14/14 [==============================] - 0s 4ms/step - loss: 0.7193 - acc: 0.5071\n",
            "Epoch 14/50\n",
            "14/14 [==============================] - 0s 4ms/step - loss: 0.7036 - acc: 0.5541\n",
            "Epoch 15/50\n",
            "14/14 [==============================] - 0s 4ms/step - loss: 0.6947 - acc: 0.5824\n",
            "Epoch 16/50\n",
            "14/14 [==============================] - 0s 5ms/step - loss: 0.6937 - acc: 0.5824\n",
            "Epoch 17/50\n",
            "14/14 [==============================] - 0s 5ms/step - loss: 0.6903 - acc: 0.6212\n",
            "Epoch 18/50\n",
            "14/14 [==============================] - 0s 4ms/step - loss: 0.6804 - acc: 0.6624\n",
            "Epoch 19/50\n",
            "14/14 [==============================] - 0s 4ms/step - loss: 0.6708 - acc: 0.6824\n",
            "Epoch 20/50\n",
            "14/14 [==============================] - 0s 5ms/step - loss: 0.6737 - acc: 0.6800\n",
            "Epoch 21/50\n",
            "14/14 [==============================] - 0s 5ms/step - loss: 0.6606 - acc: 0.7176\n",
            "Epoch 22/50\n",
            "14/14 [==============================] - 0s 5ms/step - loss: 0.6522 - acc: 0.7235\n",
            "Epoch 23/50\n",
            "14/14 [==============================] - 0s 4ms/step - loss: 0.6332 - acc: 0.7694\n",
            "Epoch 24/50\n",
            "14/14 [==============================] - 0s 4ms/step - loss: 0.6301 - acc: 0.7871\n",
            "Epoch 25/50\n",
            "14/14 [==============================] - 0s 5ms/step - loss: 0.6132 - acc: 0.7871\n",
            "Epoch 26/50\n",
            "14/14 [==============================] - 0s 5ms/step - loss: 0.6035 - acc: 0.8153\n",
            "Epoch 27/50\n",
            "14/14 [==============================] - 0s 5ms/step - loss: 0.5916 - acc: 0.8318\n",
            "Epoch 28/50\n",
            "14/14 [==============================] - 0s 5ms/step - loss: 0.5765 - acc: 0.8447\n",
            "Epoch 29/50\n",
            "14/14 [==============================] - 0s 5ms/step - loss: 0.5761 - acc: 0.8494\n",
            "Epoch 30/50\n",
            "14/14 [==============================] - 0s 5ms/step - loss: 0.5553 - acc: 0.8706\n",
            "Epoch 31/50\n",
            "14/14 [==============================] - 0s 5ms/step - loss: 0.5370 - acc: 0.8800\n",
            "Epoch 32/50\n",
            "14/14 [==============================] - 0s 5ms/step - loss: 0.5298 - acc: 0.8624\n",
            "Epoch 33/50\n",
            "14/14 [==============================] - 0s 5ms/step - loss: 0.5114 - acc: 0.8859\n",
            "Epoch 34/50\n",
            "14/14 [==============================] - 0s 5ms/step - loss: 0.5056 - acc: 0.8847\n",
            "Epoch 35/50\n",
            "14/14 [==============================] - 0s 5ms/step - loss: 0.5008 - acc: 0.8835\n",
            "Epoch 36/50\n",
            "14/14 [==============================] - 0s 4ms/step - loss: 0.4825 - acc: 0.8906\n",
            "Epoch 37/50\n",
            "14/14 [==============================] - 0s 5ms/step - loss: 0.4746 - acc: 0.9024\n",
            "Epoch 38/50\n",
            "14/14 [==============================] - 0s 5ms/step - loss: 0.4664 - acc: 0.8859\n",
            "Epoch 39/50\n",
            "14/14 [==============================] - 0s 5ms/step - loss: 0.4503 - acc: 0.9153\n",
            "Epoch 40/50\n",
            "14/14 [==============================] - 0s 5ms/step - loss: 0.4506 - acc: 0.9071\n",
            "Epoch 41/50\n",
            "14/14 [==============================] - 0s 5ms/step - loss: 0.4308 - acc: 0.9188\n",
            "Epoch 42/50\n",
            "14/14 [==============================] - 0s 5ms/step - loss: 0.4173 - acc: 0.9235\n",
            "Epoch 43/50\n",
            "14/14 [==============================] - 0s 5ms/step - loss: 0.4150 - acc: 0.9212\n",
            "Epoch 44/50\n",
            "14/14 [==============================] - 0s 5ms/step - loss: 0.4183 - acc: 0.9259\n",
            "Epoch 45/50\n",
            "14/14 [==============================] - 0s 4ms/step - loss: 0.3839 - acc: 0.9376\n",
            "Epoch 46/50\n",
            "14/14 [==============================] - 0s 6ms/step - loss: 0.3862 - acc: 0.9176\n",
            "Epoch 47/50\n",
            "14/14 [==============================] - 0s 5ms/step - loss: 0.3644 - acc: 0.9424\n",
            "Epoch 48/50\n",
            "14/14 [==============================] - 0s 5ms/step - loss: 0.3791 - acc: 0.9153\n",
            "Epoch 49/50\n",
            "14/14 [==============================] - 0s 5ms/step - loss: 0.3573 - acc: 0.9400\n",
            "Epoch 50/50\n",
            "14/14 [==============================] - 0s 5ms/step - loss: 0.3509 - acc: 0.9400\n"
          ]
        }
      ],
      "source": [
        "history=model.fit(X_train, Y_train, epochs = epoch\n",
        "                  , batch_size=64, verbose = 1)"
      ]
    },
    {
      "cell_type": "code",
      "execution_count": null,
      "metadata": {
        "id": "HcVT4Js4VQpe"
      },
      "outputs": [],
      "source": [
        "# import matplotlib.pyplot as plt\n",
        "\n",
        "# loss_train = history.history['loss']\n",
        "# loss_val = history.history['val_loss']\n",
        "# training_accuracy = history.history['acc']\n",
        "# validation_accuracy = history.history['val_acc']\n",
        "# epochs = range(0,epoch)\n",
        "# plt.plot(epochs, loss_train, 'g', label='Training loss')\n",
        "# plt.plot(epochs, loss_val, 'b', label='validation loss')\n",
        "\n",
        "# plt.plot(epochs, training_accuracy, 'r', label='Training accuracy')\n",
        "# plt.plot(epochs, validation_accuracy, 'y', label='validation accuracy')\n",
        "\n",
        "# plt.title('Training and Validation loss')\n",
        "# plt.xlabel('Epochs')\n",
        "# plt.ylabel('Loss')\n",
        "# plt.legend()\n",
        "# plt.show()"
      ]
    },
    {
      "cell_type": "code",
      "execution_count": null,
      "metadata": {
        "colab": {
          "base_uri": "https://localhost:8080/"
        },
        "id": "ItJ0MqHM7Ivw",
        "outputId": "8435a014-0df9-4946-9aa5-7809ba486971"
      },
      "outputs": [
        {
          "output_type": "stream",
          "name": "stdout",
          "text": [
            "3/3 - 0s - loss: 0.3751 - acc: 0.9200 - 127ms/epoch - 42ms/step\n",
            "Train loss: 0.3751189112663269\n",
            "Train accuracy: 0.9200000166893005\n"
          ]
        }
      ],
      "source": [
        "score = model.evaluate(X_test, Y_test,batch_size=64, verbose=2)\n",
        "print('Train loss:', score[0])\n",
        "print('Train accuracy:', score[1])\n",
        "acc = score[1]"
      ]
    },
    {
      "cell_type": "code",
      "execution_count": null,
      "metadata": {
        "id": "TmOXwIqixyvg"
      },
      "outputs": [],
      "source": [
        "import string \n",
        "def remove_punc(s):\n",
        "    pt = str.maketrans({key: None for key in string.punctuation})\n",
        "    return s.translate(pt)"
      ]
    },
    {
      "cell_type": "code",
      "execution_count": null,
      "metadata": {
        "id": "zCEizktV0vtu",
        "colab": {
          "base_uri": "https://localhost:8080/"
        },
        "outputId": "973dd45e-5c09-4d9c-dda3-3f995b11026f"
      },
      "outputs": [
        {
          "output_type": "stream",
          "name": "stdout",
          "text": [
            "0  823                       জুলাই মাসের টি টেনের খবর নেই।\\n\n",
            "   837     দারাজের দালাল গুলি হাহাহা রিএক্ট দিবেই এটাই স্...\n",
            "   1858    একদিন হ্যালো সার, আর আরেকদিন ওয়েট বলে গায়েব। এ...\n",
            "   81      সোশ্যাল মিডিয়াতে অনলাইনে পন্য কিনে আমি সমস্যা...\n",
            "   1881                           খুব বাজে কোয়ালিটির গেন্জি!\n",
            "Name: BanglaTranslation, dtype: object\n",
            "0  823     0\n",
            "   837     0\n",
            "   1858    0\n",
            "   81      0\n",
            "   1881    0\n",
            "Name: Sentiment, dtype: int64\n"
          ]
        }
      ],
      "source": [
        "x = data[independent].fillna(' ')\n",
        "y = data[dependent]\n",
        "print(x.head())\n",
        "print(y.head())"
      ]
    },
    {
      "cell_type": "code",
      "execution_count": null,
      "metadata": {
        "id": "LILmFnSDw3KJ"
      },
      "outputs": [],
      "source": [
        "contractions = { \n",
        "\"বি.দ্র \": \"বিশেষ দ্রষ্টব্য\",\n",
        "\"ড.\": \"ডক্টর\",\n",
        "\"ডা.\": \"ডাক্তার\",\n",
        "\"ইঞ্জি:\": \"ইঞ্জিনিয়ার\",\n",
        "\"রেজি:\": \"রেজিস্ট্রেশন\",\n",
        "\"মি.\": \"মিস্টার\",\n",
        "\"মু.\": \"মুহাম্মদ\",\n",
        "\"মো.\": \"মোহাম্মদ\",\n",
        "}"
      ]
    },
    {
      "cell_type": "code",
      "execution_count": null,
      "metadata": {
        "id": "oZn2wI4rjzQ6"
      },
      "outputs": [],
      "source": [
        "import re\n",
        "import string\n",
        "from collections import Counter\n",
        "vocab = Counter()\n",
        "def clean_text(x,remove_stopwords = False):\n",
        "    if True:\n",
        "        new_text = []\n",
        "        for word in x:\n",
        "            if word in contractions:\n",
        "                new_text.append(contractions[word])\n",
        "            else:\n",
        "                new_text.append(word)\n",
        "        x = \"\".join(new_text)\n",
        "    # Format words and remove unwanted characters\n",
        "    whitespace = re.compile(u\"[\\s\\u0020\\u00a0\\u1680\\u180e\\u202f\\u205f\\u3000\\u2000-\\u200a]+\", re.UNICODE)\n",
        "    bangla_digits = u\"[\\u09E6\\u09E7\\u09E8\\u09E9\\u09EA\\u09EB\\u09EC\\u09ED\\u09EE\\u09EF]+\"\n",
        "    english_chars = u\"[a-zA-Z0-9]\"\n",
        "    punc = u\"[(),$%^&*+={}\\[\\]:\\\"|\\'\\~`<>/,€¦!?½£¶™¼©⅐⅑⅒⅓⅔⅕⅖⅗⅘⅙⅚⅛⅜⅝⅞⅟↉¤¿º;-]+\"\n",
        "    bangla_fullstop = u\"\\u0964\"     #bangla fullstop(dari)\n",
        "    punctSeq   = u\"['\\\"“”‘’]+|[.?!,…]+|[:;]+\"\n",
        "    \n",
        "    x = re.sub(bangla_digits, \" \", x)\n",
        "    x = re.sub(punc, \" \", x)\n",
        "    x = re.sub(english_chars, \" \", x)\n",
        "    x = re.sub(bangla_fullstop, \" \", x)\n",
        "    x = re.sub(punctSeq, \" \", x)\n",
        "    x = whitespace.sub(\" \", x).strip()\n",
        "    \n",
        "    x = re.sub(r'https?:\\/\\/.*[\\r\\n]*', '', x, flags=re.MULTILINE)\n",
        "    x = re.sub(r'\\<a href', ' ', x)\n",
        "    x = re.sub(r'&amp;‘:‘ ’', '', x) \n",
        "    x = re.sub(r'[_\"\\-;%()|+&=*%.,!?:#$@\\[\\]/]। ,', ' ', x)\n",
        "    x = re.sub(r'<br />', ' ', x)\n",
        "    x = re.sub(r'\\'', ' ', x)\n",
        "    x = re.sub(r\"[\\@$#%~+-\\.\\'।\\\"]\",\" \",x)\n",
        "    x = re.sub(r\"(?m)^\\s+\", \"\", x)\n",
        "    x = re.sub(\"[()]\",\"\",x)\n",
        "    x = re.sub(\"[‘’]\",\"\",x)\n",
        "    x = re.sub(\"[!]\",\"\",x)\n",
        "    x = re.sub(\"[/]\",\"\",x)\n",
        "    x = re.sub(\"[:]\",\"\",x)\n",
        "    x = re.sub('\\ |\\?|\\.|\\!|\\/|\\;|\\:', ' ',x)\n",
        "    x = x.strip(\"/\")\n",
        "    \n",
        "    if remove_stopwords:\n",
        "        k = []\n",
        "        with open('/content/Banglastopword.txt', 'r',encoding=\"utf-8\") as f:\n",
        "            for word in f:\n",
        "                word = word.split()\n",
        "                k.append(word[0])\n",
        "            x = [t for t in x if t not in k]\n",
        "            x = \"\".join(x)\n",
        "   \n",
        "\n",
        "    return x"
      ]
    },
    {
      "cell_type": "code",
      "execution_count": null,
      "metadata": {
        "id": "GK_7wrsZmLoh"
      },
      "outputs": [],
      "source": [
        "import matplotlib.pyplot as plt\n",
        "import seaborn as sns\n",
        "import nltk\n",
        "from nltk.corpus import stopwords\n",
        "import string\n",
        "import math\n",
        "from sklearn.feature_extraction.text import CountVectorizer\n",
        "from sklearn.model_selection import train_test_split, cross_val_score\n",
        "from sklearn.metrics import classification_report\n",
        "from sklearn.metrics import confusion_matrix, accuracy_score, roc_auc_score, roc_curve\n",
        "from sklearn.model_selection import GridSearchCV\n",
        "from sklearn import metrics\n",
        "%matplotlib inline"
      ]
    },
    {
      "cell_type": "code",
      "source": [
        "from sklearn.feature_extraction.text import  TfidfVectorizer\n",
        "vocab = TfidfVectorizer(max_features= 3000, analyzer = clean_text).fit(x) #clean_text"
      ],
      "metadata": {
        "id": "R_tjwZEmwA-m"
      },
      "execution_count": null,
      "outputs": []
    },
    {
      "cell_type": "code",
      "execution_count": null,
      "metadata": {
        "id": "pkpoPYsnyMb4",
        "colab": {
          "base_uri": "https://localhost:8080/"
        },
        "outputId": "9402cb00-3c73-48dc-e692-c766817a79f9"
      },
      "outputs": [
        {
          "output_type": "stream",
          "name": "stdout",
          "text": [
            "64\n"
          ]
        }
      ],
      "source": [
        "print(len(vocab.vocabulary_))"
      ]
    },
    {
      "cell_type": "code",
      "execution_count": null,
      "metadata": {
        "id": "ERSeau6ryh44",
        "colab": {
          "base_uri": "https://localhost:8080/"
        },
        "outputId": "00bcc5dc-4b0e-4ecc-f920-ba6e4de00afa"
      },
      "outputs": [
        {
          "output_type": "stream",
          "name": "stdout",
          "text": [
            "ূ\n",
            "ূ\n"
          ]
        },
        {
          "output_type": "stream",
          "name": "stderr",
          "text": [
            "/usr/local/lib/python3.7/dist-packages/sklearn/utils/deprecation.py:87: FutureWarning: Function get_feature_names is deprecated; get_feature_names is deprecated in 1.0 and will be removed in 1.2. Please use get_feature_names_out instead.\n",
            "  warnings.warn(msg, category=FutureWarning)\n"
          ]
        }
      ],
      "source": [
        "print(vocab.get_feature_names()[50])\n",
        "print(vocab.get_feature_names()[50])"
      ]
    },
    {
      "cell_type": "code",
      "execution_count": null,
      "metadata": {
        "id": "ymi0mjPjyo7l"
      },
      "outputs": [],
      "source": [
        "x = vocab.transform(x)"
      ]
    },
    {
      "cell_type": "code",
      "execution_count": null,
      "metadata": {
        "id": "LjubOcNxyx3f",
        "colab": {
          "base_uri": "https://localhost:8080/"
        },
        "outputId": "c943b326-ef02-4db6-e418-a5d69f4307b9"
      },
      "outputs": [
        {
          "output_type": "stream",
          "name": "stdout",
          "text": [
            "Shape of the sparse matrix:  (1000, 64)\n",
            "Non-Zero occurences:  26193\n",
            "Density of the matrix =  40.9265625\n"
          ]
        }
      ],
      "source": [
        "print(\"Shape of the sparse matrix: \", x.shape)\n",
        "print(\"Non-Zero occurences: \",x.nnz)\n",
        "density = (x.nnz/(x.shape[0]*x.shape[1]))*100\n",
        "print(\"Density of the matrix = \",density)"
      ]
    },
    {
      "cell_type": "code",
      "execution_count": null,
      "metadata": {
        "id": "T7dHdj-lzWkv"
      },
      "outputs": [],
      "source": [
        "x_train,x_test,y_train,y_test = train_test_split(x,y,test_size=0.15,random_state=101)"
      ]
    },
    {
      "cell_type": "code",
      "execution_count": null,
      "metadata": {
        "id": "Xb21mdz7zBEn",
        "colab": {
          "base_uri": "https://localhost:8080/"
        },
        "outputId": "c5c0765b-80ff-4479-ae2c-af7207d99fcd"
      },
      "outputs": [
        {
          "output_type": "stream",
          "name": "stdout",
          "text": [
            "Confusion Matrix for Multinomial Naive Bayes:\n",
            "[[53 22]\n",
            " [21 54]]\n",
            "Score: 71.33\n",
            "Classification Report:               precision    recall  f1-score   support\n",
            "\n",
            "           0       0.72      0.71      0.71        75\n",
            "           1       0.71      0.72      0.72        75\n",
            "\n",
            "    accuracy                           0.71       150\n",
            "   macro avg       0.71      0.71      0.71       150\n",
            "weighted avg       0.71      0.71      0.71       150\n",
            "\n"
          ]
        }
      ],
      "source": [
        "from sklearn.naive_bayes import MultinomialNB\n",
        "mnb = MultinomialNB()\n",
        "mnb.fit(x_train,y_train)\n",
        "predmnb = mnb.predict(x_test)\n",
        "print(\"Confusion Matrix for Multinomial Naive Bayes:\")\n",
        "print(confusion_matrix(y_test,predmnb))\n",
        "print(\"Score:\",round(accuracy_score(y_test,predmnb)*100,2))\n",
        "print(\"Classification Report:\",classification_report(y_test,predmnb))"
      ]
    },
    {
      "cell_type": "code",
      "execution_count": null,
      "metadata": {
        "id": "3HUVEdzj1m71",
        "colab": {
          "base_uri": "https://localhost:8080/"
        },
        "outputId": "a60effec-9bcb-4ed0-ec62-abdcf82f3e80"
      },
      "outputs": [
        {
          "output_type": "stream",
          "name": "stdout",
          "text": [
            "Accuracy: 71.33333333333334 %\n"
          ]
        }
      ],
      "source": [
        "acc1=metrics.accuracy_score(y_test, predmnb)\n",
        "print(\"Accuracy:\",acc1*100,\"%\")"
      ]
    },
    {
      "cell_type": "code",
      "execution_count": null,
      "metadata": {
        "id": "2jH3hXpG1yGd",
        "colab": {
          "base_uri": "https://localhost:8080/"
        },
        "outputId": "d0db9ab6-dd37-4d2b-87b5-b7c9946e18b6"
      },
      "outputs": [
        {
          "output_type": "stream",
          "name": "stdout",
          "text": [
            "Confusion Matrix for Random Forest Classifier:\n",
            "[[68  7]\n",
            " [10 65]]\n",
            "Score: 88.67\n",
            "Classification Report:               precision    recall  f1-score   support\n",
            "\n",
            "           0       0.87      0.91      0.89        75\n",
            "           1       0.90      0.87      0.88        75\n",
            "\n",
            "    accuracy                           0.89       150\n",
            "   macro avg       0.89      0.89      0.89       150\n",
            "weighted avg       0.89      0.89      0.89       150\n",
            "\n"
          ]
        }
      ],
      "source": [
        "from sklearn.ensemble import RandomForestClassifier\n",
        "rmfr = RandomForestClassifier()\n",
        "rmfr.fit(x_train,y_train)\n",
        "predrmfr = rmfr.predict(x_test)\n",
        "print(\"Confusion Matrix for Random Forest Classifier:\")\n",
        "print(confusion_matrix(y_test,predrmfr))\n",
        "print(\"Score:\",round(accuracy_score(y_test,predrmfr)*100,2))\n",
        "print(\"Classification Report:\",classification_report(y_test,predrmfr))"
      ]
    },
    {
      "cell_type": "code",
      "execution_count": null,
      "metadata": {
        "id": "e1IdCY2S15GM",
        "colab": {
          "base_uri": "https://localhost:8080/"
        },
        "outputId": "6a6cb6b8-3784-40f4-afde-0b1a3372b7dd"
      },
      "outputs": [
        {
          "output_type": "stream",
          "name": "stdout",
          "text": [
            "Accuracy: 88.66666666666667 %\n"
          ]
        }
      ],
      "source": [
        "acc2=metrics.accuracy_score(y_test,predrmfr)\n",
        "print(\"Accuracy:\",acc2*100,\"%\")"
      ]
    },
    {
      "cell_type": "code",
      "execution_count": null,
      "metadata": {
        "id": "9m7NBPgh2GEH",
        "colab": {
          "base_uri": "https://localhost:8080/"
        },
        "outputId": "6d0f80e7-3211-4d4b-92db-8b77eefaa69b"
      },
      "outputs": [
        {
          "output_type": "stream",
          "name": "stdout",
          "text": [
            "Confusion Matrix for Support Vector Machines:\n",
            "[[56 19]\n",
            " [18 57]]\n",
            "Score: 75.33\n",
            "Classification Report:               precision    recall  f1-score   support\n",
            "\n",
            "           0       0.76      0.75      0.75        75\n",
            "           1       0.75      0.76      0.75        75\n",
            "\n",
            "    accuracy                           0.75       150\n",
            "   macro avg       0.75      0.75      0.75       150\n",
            "weighted avg       0.75      0.75      0.75       150\n",
            "\n"
          ]
        }
      ],
      "source": [
        "from sklearn.svm import LinearSVC\n",
        "svm = LinearSVC(loss='hinge')\n",
        "svm.fit(x_train,y_train)\n",
        "predsvm = svm.predict(x_test)\n",
        "print(\"Confusion Matrix for Support Vector Machines:\")\n",
        "print(confusion_matrix(y_test,predsvm))\n",
        "print(\"Score:\",round(accuracy_score(y_test,predsvm)*100,2))\n",
        "print(\"Classification Report:\",classification_report(y_test,predsvm))"
      ]
    },
    {
      "cell_type": "code",
      "execution_count": null,
      "metadata": {
        "id": "ldoApc7u2MdH",
        "colab": {
          "base_uri": "https://localhost:8080/"
        },
        "outputId": "fbb89dc7-6f66-49a3-8be1-e102ce1a1030"
      },
      "outputs": [
        {
          "output_type": "stream",
          "name": "stdout",
          "text": [
            "Accuracy: 75.33333333333333 %\n"
          ]
        }
      ],
      "source": [
        "acc3=metrics.accuracy_score(y_test,predsvm)\n",
        "print(\"Accuracy:\",acc3*100,\"%\")"
      ]
    },
    {
      "cell_type": "code",
      "execution_count": null,
      "metadata": {
        "id": "EMWh252d2qdc",
        "colab": {
          "base_uri": "https://localhost:8080/",
          "height": 448
        },
        "outputId": "9d063b54-1e48-4500-cb54-e046fe76e441"
      },
      "outputs": [
        {
          "output_type": "display_data",
          "data": {
            "text/plain": [
              "<Figure size 640x480 with 1 Axes>"
            ],
            "image/png": "[encoded data removed]"
          },
          "metadata": {}
        },
        {
          "output_type": "stream",
          "name": "stdout",
          "text": [
            "[92.0, 71.33, 88.67, 75.33]\n"
          ]
        }
      ],
      "source": [
        "import matplotlib.pyplot as plt; plt.rcdefaults()\n",
        "import numpy as np\n",
        "import matplotlib.pyplot as plt\n",
        "\n",
        "objects = ('CNN','NB','RF','SVM')\n",
        "y_pos = np.arange(len(objects))\n",
        "performance = [round(acc*100,2),round(acc1*100,2),round(acc2*100,2),round(acc3*100,2)]\n",
        "\n",
        "plt.bar(y_pos, performance, align='center', alpha=0.5)\n",
        "plt.xticks(y_pos, objects)\n",
        "plt.ylabel('Score')\n",
        "\n",
        "plt.show()\n",
        "print(performance)"
      ]
    },
    {
      "cell_type": "code",
      "source": [
        "print(performance)"
      ],
      "metadata": {
        "colab": {
          "base_uri": "https://localhost:8080/"
        },
        "id": "zchHYFtjopOG",
        "outputId": "e45f011c-3bf4-4da4-c1c6-f448dcba87ef"
      },
      "execution_count": null,
      "outputs": [
        {
          "output_type": "stream",
          "name": "stdout",
          "text": [
            "[92.0, 71.33, 88.67, 75.33]\n"
          ]
        }
      ]
    },
    {
      "cell_type": "code",
      "source": [
        "!pip install matplotlib==3.5.0"
      ],
      "metadata": {
        "id": "x2R2LN36Negs"
      },
      "execution_count": null,
      "outputs": []
    },
    {
      "cell_type": "code",
      "source": [
        "#improper / human biased\n",
        "english_improper= [71.11, 72.89, 86.22, 80.0]\n",
        "bangla_improper = [63.56, 51.11, 82.22, 62.67]\n",
        "\n",
        "#proper\n",
        "english_proper = [90.0, 91.33, 99.33, 98.67]\n",
        "bangla_proper = [89.33, 73.33, 95.33, 81.33]\n",
        "\n",
        "#facebook and proper experiment with 2 classes\n",
        "banglaproper = [95.33, 68.0, 91.33, 70.67] #online shop data maxlen = 102\n",
        "facebookdata = [96.0, 75.67, 95.33, 82.67] #facebook data maxlen = 512\n",
        "        \n"
      ],
      "metadata": {
        "id": "KOeYFSBkoqVz"
      },
      "execution_count": null,
      "outputs": []
    },
    {
      "cell_type": "code",
      "source": [
        "import matplotlib.pyplot as plt\n",
        "import numpy as np\n",
        "\n",
        "labels = ['CNN','NB','RF','SVM']\n",
        "english_proper= english_proper\n",
        "english_improper = english_improper\n",
        "\n",
        "x = np.arange(len(labels))  # the label locations\n",
        "width = 0.35  # the width of the bars\n",
        "\n",
        "fig, ax = plt.subplots()\n",
        "fig.set_figwidth(10)\n",
        "fig.set_figheight(7)\n",
        "rects1 = ax.bar(x - width/2, english_proper, width, label='Proper')\n",
        "rects2 = ax.bar(x + width/2, english_improper, width, label='Improper')\n",
        "\n",
        "# Add some text for labels, title and custom x-axis tick labels, etc.\n",
        "ax.set_ylabel('Scores')\n",
        "ax.set_xlabel('Algorithms')\n",
        "ax.set_title('Proper Vs Improper [English Text]')\n",
        "ax.set_xticks(x, labels)\n",
        "ax.legend()\n",
        "\n",
        "ax.bar_label(rects1, padding=3)\n",
        "ax.bar_label(rects2, padding=3)\n",
        "\n",
        "fig.tight_layout()\n",
        "\n",
        "plt.show()\n"
      ],
      "metadata": {
        "id": "P9-Smsi9MgKn",
        "colab": {
          "base_uri": "https://localhost:8080/",
          "height": 707
        },
        "outputId": "971d23e9-39e8-4638-84d1-792d7f86cb6e"
      },
      "execution_count": null,
      "outputs": [
        {
          "output_type": "display_data",
          "data": {
            "text/plain": [
              "<Figure size 1000x700 with 1 Axes>"
            ],
            "image/png": "[encoded data removed]"
          },
          "metadata": {}
        }
      ]
    },
    {
      "cell_type": "code",
      "source": [
        "import matplotlib.pyplot as plt\n",
        "import numpy as np\n",
        "\n",
        "labels = ['CNN','NB','RF','SVM']\n",
        "bangla_proper= bangla_proper\n",
        "bangla_improper = bangla_improper\n",
        "\n",
        "x = np.arange(len(labels))  # the label locations\n",
        "width = 0.35  # the width of the bars\n",
        "\n",
        "fig, ax = plt.subplots()\n",
        "fig.set_figwidth(10)\n",
        "fig.set_figheight(7)\n",
        "rects1 = ax.bar(x - width/2, bangla_proper, width, label='Proper')\n",
        "rects2 = ax.bar(x + width/2, bangla_improper, width, label='Improper')\n",
        "\n",
        "# Add some text for labels, title and custom x-axis tick labels, etc.\n",
        "ax.set_ylabel('Scores')\n",
        "ax.set_xlabel('Algorithms')\n",
        "ax.set_title('Proper Vs Improper [Bangla Text]')\n",
        "ax.set_xticks(x, labels)\n",
        "ax.legend()\n",
        "\n",
        "ax.bar_label(rects1, padding=3)\n",
        "ax.bar_label(rects2, padding=3)\n",
        "\n",
        "fig.tight_layout()\n",
        "\n",
        "plt.show()\n"
      ],
      "metadata": {
        "id": "GRKXsgIvNM_u"
      },
      "execution_count": null,
      "outputs": []
    },
    {
      "cell_type": "code",
      "source": [
        "values = [round(x2-x1,2) for x1,x2 in zip(bangla_improper,bangla_proper) ]\n",
        "print(values)"
      ],
      "metadata": {
        "id": "PeuqmjKAPzk0"
      },
      "execution_count": null,
      "outputs": []
    },
    {
      "cell_type": "code",
      "source": [
        "import matplotlib.pyplot as plt\n",
        "import numpy as np\n",
        "\n",
        "labels = ['CNN','NB','RF','SVM']\n",
        "english_proper= english_proper\n",
        "english_improper = english_improper\n",
        "\n",
        "x = np.arange(len(labels))  # the label locations\n",
        "width = 0.35  # the width of the bars\n",
        "\n",
        "fig, ax = plt.subplots()\n",
        "fig.set_figwidth(10)\n",
        "fig.set_figheight(7)\n",
        "rects1 = ax.bar(x , values, width, align='center')\n",
        "\n",
        "# Add some text for labels, title and custom x-axis tick labels, etc.\n",
        "ax.set_ylabel('Difference')\n",
        "ax.set_xlabel('Algorithms')\n",
        "ax.set_title('Proper Vs Improper [English Text]')\n",
        "ax.set_xticks(x, labels)\n",
        "ax.legend()\n",
        "\n",
        "ax.bar_label(rects1, padding=3)\n",
        "\n",
        "\n",
        "fig.tight_layout()\n",
        "\n",
        "plt.show()"
      ],
      "metadata": {
        "id": "qXjcBK8RG2gH"
      },
      "execution_count": null,
      "outputs": []
    },
    {
      "cell_type": "code",
      "source": [],
      "metadata": {
        "id": "ivyghlP2HqF_"
      },
      "execution_count": null,
      "outputs": []
    }
  ],
  "metadata": {
    "accelerator": "GPU",
    "colab": {
      "provenance": [],
      "include_colab_link": true
    },
    "kernelspec": {
      "display_name": "Python 3",
      "name": "python3"
    },
    "language_info": {
      "name": "python"
    }
  },
  "nbformat": 4,
  "nbformat_minor": 0
}